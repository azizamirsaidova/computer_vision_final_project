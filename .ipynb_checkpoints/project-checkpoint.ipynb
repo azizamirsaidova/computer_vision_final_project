{
 "cells": [
  {
   "cell_type": "code",
   "execution_count": 1,
   "id": "3a669824",
   "metadata": {},
   "outputs": [
    {
     "name": "stdout",
     "output_type": "stream",
     "text": [
      "Requirement already satisfied: mediapipe in /Users/devyanigauri/opt/miniconda3/lib/python3.9/site-packages (0.8.10)\n",
      "Requirement already satisfied: absl-py in /Users/devyanigauri/opt/miniconda3/lib/python3.9/site-packages (from mediapipe) (1.0.0)\n",
      "Requirement already satisfied: opencv-contrib-python in /Users/devyanigauri/opt/miniconda3/lib/python3.9/site-packages (from mediapipe) (4.5.5.64)\n",
      "Requirement already satisfied: protobuf>=3.11.4 in /Users/devyanigauri/opt/miniconda3/lib/python3.9/site-packages (from mediapipe) (3.20.1)\n",
      "Requirement already satisfied: attrs>=19.1.0 in /Users/devyanigauri/opt/miniconda3/lib/python3.9/site-packages (from mediapipe) (21.4.0)\n",
      "Requirement already satisfied: numpy in /Users/devyanigauri/opt/miniconda3/lib/python3.9/site-packages (from mediapipe) (1.21.2)\n",
      "Requirement already satisfied: matplotlib in /Users/devyanigauri/opt/miniconda3/lib/python3.9/site-packages (from mediapipe) (3.5.1)\n",
      "Requirement already satisfied: six in /Users/devyanigauri/opt/miniconda3/lib/python3.9/site-packages (from absl-py->mediapipe) (1.16.0)\n",
      "Requirement already satisfied: pyparsing>=2.2.1 in /Users/devyanigauri/opt/miniconda3/lib/python3.9/site-packages (from matplotlib->mediapipe) (3.0.7)\n",
      "Requirement already satisfied: cycler>=0.10 in /Users/devyanigauri/opt/miniconda3/lib/python3.9/site-packages (from matplotlib->mediapipe) (0.11.0)\n",
      "Requirement already satisfied: fonttools>=4.22.0 in /Users/devyanigauri/opt/miniconda3/lib/python3.9/site-packages (from matplotlib->mediapipe) (4.29.1)\n",
      "Requirement already satisfied: kiwisolver>=1.0.1 in /Users/devyanigauri/opt/miniconda3/lib/python3.9/site-packages (from matplotlib->mediapipe) (1.3.2)\n",
      "Requirement already satisfied: packaging>=20.0 in /Users/devyanigauri/opt/miniconda3/lib/python3.9/site-packages (from matplotlib->mediapipe) (21.3)\n",
      "Requirement already satisfied: pillow>=6.2.0 in /Users/devyanigauri/opt/miniconda3/lib/python3.9/site-packages (from matplotlib->mediapipe) (9.0.1)\n",
      "Requirement already satisfied: python-dateutil>=2.7 in /Users/devyanigauri/opt/miniconda3/lib/python3.9/site-packages (from matplotlib->mediapipe) (2.8.2)\n",
      "Requirement already satisfied: cvzone in /Users/devyanigauri/opt/miniconda3/lib/python3.9/site-packages (1.5.6)\n",
      "Requirement already satisfied: opencv-python in /Users/devyanigauri/opt/miniconda3/lib/python3.9/site-packages (from cvzone) (4.5.5.64)\n",
      "Requirement already satisfied: numpy in /Users/devyanigauri/opt/miniconda3/lib/python3.9/site-packages (from cvzone) (1.21.2)\n"
     ]
    }
   ],
   "source": [
    "!pip install mediapipe\n",
    "!pip install cvzone"
   ]
  },
  {
   "cell_type": "code",
   "execution_count": 1,
   "id": "94d6a5ba",
   "metadata": {},
   "outputs": [],
   "source": [
    "import cv2\n",
    "import numpy\n",
    "import mediapipe as mp\n",
    "import cvzone\n",
    "import os\n",
    "from cvzone.HandTrackingModule import HandDetector\n",
    "mp_drawing = mp.solutions.drawing_utils\n",
    "mp_drawing_styles = mp.solutions.drawing_styles\n",
    "mp_hands = mp.solutions.hands"
   ]
  },
  {
   "cell_type": "code",
   "execution_count": 2,
   "id": "38db8995",
   "metadata": {},
   "outputs": [],
   "source": [
    "class DragImg():\n",
    "    def __init__(self, path, posOrigin, imgType):\n",
    " \n",
    "        self.posOrigin = posOrigin\n",
    "        self.imgType = imgType\n",
    "        self.path = path\n",
    " \n",
    "        if self.imgType == 'png':\n",
    "            self.img = cv2.imread(self.path, cv2.IMREAD_UNCHANGED)\n",
    "        else:\n",
    "            self.img = cv2.imread(self.path)\n",
    " \n",
    "        self.img = cv2.resize(self.img, (0,0),None,0.2,0.2)\n",
    " \n",
    "        self.size = self.img.shape[:2]\n",
    " \n",
    "    def update(self, cursor):\n",
    "        ox, oy = self.posOrigin\n",
    "        h, w = self.size\n",
    " \n",
    "        # Check if in region\n",
    "        if ox < cursor[0] < ox + w and oy < cursor[1] < oy + h:\n",
    "            self.posOrigin = cursor[0] - w // 2, cursor[1] - h // 2"
   ]
  },
  {
   "cell_type": "code",
   "execution_count": 3,
   "id": "bebb396c",
   "metadata": {},
   "outputs": [],
   "source": [
    "path = 'images'\n",
    "paths = os.listdir(path)"
   ]
  },
  {
   "cell_type": "code",
   "execution_count": 4,
   "id": "a234b30e",
   "metadata": {},
   "outputs": [
    {
     "data": {
      "text/plain": [
       "['dog.png', 'sandwich.png']"
      ]
     },
     "execution_count": 4,
     "metadata": {},
     "output_type": "execute_result"
    }
   ],
   "source": [
    "paths"
   ]
  },
  {
   "cell_type": "code",
   "execution_count": 5,
   "id": "2be2dd10",
   "metadata": {},
   "outputs": [],
   "source": [
    "images = []\n",
    "for x, img_path in enumerate(paths):\n",
    "    if 'png' in img_path:\n",
    "        img_type = 'png'\n",
    "    else:\n",
    "        img_type = 'jpg'\n",
    "    images.append(DragImg(f'{path}/{img_path}', [50 + x * 300, 50], img_type))"
   ]
  },
  {
   "cell_type": "code",
   "execution_count": 6,
   "id": "6ef3b106",
   "metadata": {},
   "outputs": [
    {
     "name": "stdout",
     "output_type": "stream",
     "text": [
      "[/Users/build/sandbox/BuildRepos/Sol-Windows-1/External/VirtualMonitor-macOS/MersiveRelayCam/RelayPlugin/VtcComLib/VtcComLib.cpp] initializer()\n",
      "[/Users/build/sandbox/BuildRepos/Sol-Windows-1/External/VirtualMonitor-macOS/MersiveRelayCam/RelayPlugin/avCam/avCam/avCamLib.mm] initializer()\n",
      "\t05-28-2022  17:54:50.454 @@@@===RelayStream:: set kCMIOStreamPropertyFormatDescription sub=2vuy w=1280 h=720\n",
      "\t05-28-2022  17:54:50.339 LocalCamera::passResolution set resolution to 1280x720\n",
      "\t05-28-2022  17:54:50.178 Local Camera start, ret=0\n",
      "\t05-28-2022  17:54:50.755 @@@@===RelayStream:: set kCMIOStreamPropertyFormatDescription sub=2vuy w=1280 h=720\n",
      "\t05-28-2022  17:54:50.678 Local Camera start, ret=0\n"
     ]
    },
    {
     "name": "stderr",
     "output_type": "stream",
     "text": [
      "INFO: Created TensorFlow Lite XNNPACK delegate for CPU.\n"
     ]
    },
    {
     "name": "stdout",
     "output_type": "stream",
     "text": [
      "[[889, 709, 0], [801, 694, -50], [714, 645, -86], [644, 600, -118], [578, 561, -148], [733, 488, -46], [672, 411, -98], [621, 384, -144], [582, 372, -173], [789, 463, -49], [743, 375, -88], [706, 342, -119], [675, 324, -142], [852, 463, -60], [826, 375, -96], [792, 341, -111], [760, 324, -122], [922, 482, -77], [912, 408, -105], [887, 384, -112], [857, 380, -115]]\n",
      "[582, 372]\n",
      "[675, 324]\n",
      "104.65658125507444\n",
      "[[904, 616, 0], [792, 556, -30], [707, 492, -47], [636, 438, -65], [579, 397, -82], [739, 348, 8], [695, 271, -8], [670, 217, -35], [647, 168, -57], [799, 323, 1], [778, 227, -9], [770, 164, -34], [759, 110, -55], [860, 317, -13], [858, 222, -31], [853, 155, -55], [844, 95, -73], [922, 336, -32], [934, 245, -48], [940, 186, -57], [940, 131, -63]]\n",
      "[647, 168]\n",
      "[759, 110]\n",
      "126.12692020342051\n",
      "[[894, 543, 0], [781, 498, -51], [696, 435, -83], [624, 374, -111], [563, 323, -139], [727, 261, -35], [676, 157, -71], [644, 85, -109], [618, 16, -137], [792, 226, -38], [777, 105, -64], [765, 16, -96], [754, -61, -121], [858, 224, -48], [863, 104, -77], [864, 16, -105], [861, -62, -125], [921, 253, -62], [947, 159, -90], [956, 92, -103], [961, 27, -111]]\n",
      "[618, 16]\n",
      "[754, -61]\n",
      "156.28499608087785\n",
      "[[885, 553, 0], [785, 521, -55], [696, 460, -89], [624, 403, -118], [559, 354, -148], [719, 282, -48], [662, 181, -90], [624, 112, -126], [596, 48, -154], [782, 250, -54], [755, 121, -89], [738, 34, -121], [725, -43, -146], [847, 252, -67], [846, 127, -105], [846, 38, -134], [845, -41, -156], [911, 280, -86], [932, 182, -120], [941, 110, -137], [946, 43, -151]]\n",
      "[596, 48]\n",
      "[725, -43]\n",
      "157.8670326572334\n",
      "[[859, 636, 0], [783, 630, -28], [699, 601, -64], [639, 578, -105], [618, 538, -144], [694, 449, -46], [630, 408, -102], [604, 468, -142], [609, 534, -161], [748, 430, -57], [690, 385, -109], [660, 446, -136], [666, 513, -148], [816, 426, -73], [768, 377, -117], [731, 432, -124], [728, 495, -122], [895, 433, -92], [860, 390, -118], [821, 416, -113], [805, 455, -103]]\n",
      "[609, 534]\n",
      "[666, 513]\n",
      "60.74537019394976\n"
     ]
    },
    {
     "ename": "error",
     "evalue": "OpenCV(4.5.5) :-1: error: (-5:Bad argument) in function 'resize'\n> Overload resolution failed:\n>  - src is not a numpy array, neither a scalar\n>  - Expected Ptr<cv::UMat> for argument 'src'\n",
     "output_type": "error",
     "traceback": [
      "\u001b[0;31m---------------------------------------------------------------------------\u001b[0m",
      "\u001b[0;31merror\u001b[0m                                     Traceback (most recent call last)",
      "Input \u001b[0;32mIn [6]\u001b[0m, in \u001b[0;36m<cell line: 8>\u001b[0;34m()\u001b[0m\n\u001b[1;32m     28\u001b[0m         \u001b[38;5;28;01mfor\u001b[39;00m img_obj \u001b[38;5;129;01min\u001b[39;00m images:\n\u001b[1;32m     29\u001b[0m             img_obj\u001b[38;5;241m.\u001b[39mupdate(cursor)\n\u001b[0;32m---> 30\u001b[0m             \u001b[43mcv2\u001b[49m\u001b[38;5;241;43m.\u001b[39;49m\u001b[43mresize\u001b[49m\u001b[43m(\u001b[49m\u001b[43mimg_obj\u001b[49m\u001b[43m,\u001b[49m\u001b[43m \u001b[49m\u001b[38;5;28;43;01mNone\u001b[39;49;00m\u001b[43m,\u001b[49m\u001b[43m \u001b[49m\u001b[38;5;241;43m1.5\u001b[39;49m\u001b[43m,\u001b[49m\u001b[43m \u001b[49m\u001b[38;5;241;43m1.5\u001b[39;49m\u001b[43m)\u001b[49m\n\u001b[1;32m     32\u001b[0m \u001b[38;5;28;01mtry\u001b[39;00m:\n\u001b[1;32m     33\u001b[0m     \u001b[38;5;28;01mfor\u001b[39;00m img_obj \u001b[38;5;129;01min\u001b[39;00m images:\n\u001b[1;32m     34\u001b[0m \n\u001b[1;32m     35\u001b[0m         \u001b[38;5;66;03m# Draw for JPG image\u001b[39;00m\n",
      "\u001b[0;31merror\u001b[0m: OpenCV(4.5.5) :-1: error: (-5:Bad argument) in function 'resize'\n> Overload resolution failed:\n>  - src is not a numpy array, neither a scalar\n>  - Expected Ptr<cv::UMat> for argument 'src'\n"
     ]
    }
   ],
   "source": [
    "cap = cv2.VideoCapture(0)\n",
    "cap.set(3, 1280)\n",
    "cap.set(4, 720)\n",
    " \n",
    "detector = HandDetector(detectionCon=0.8)\n",
    "\n",
    "while True:\n",
    "    success, img = cap.read()\n",
    "    img = cv2.flip(img, 1)\n",
    "    hands, img = detector.findHands(img, flipType=False)\n",
    "    rect1 = cv2.rectangle(img, (1200,400), (900, 700), (255, 0, 0), 2)\n",
    "    rect2 = cv2.rectangle(img, (1200,50), (900, 350), (0, 255, 0), 2)\n",
    "    if hands:\n",
    "        lmList = hands[0]['lmList']\n",
    "        print(lmList)\n",
    "        print(lmList[8][:2])\n",
    "        print(lmList[12][:2])\n",
    "        # Check if clicked\n",
    "        length, info, img = detector.findDistance(lmList[8][:2], lmList[12][:2], img)\n",
    "        print(length)\n",
    "        if length < 60:\n",
    "            cursor = lmList[8]\n",
    "            for img_obj in images:\n",
    "                img_obj.update(cursor)\n",
    "        length1, info1, img = detector.findDistance(lmList[8][:2], lmList[4][:2], img)\n",
    "        if length1 < 60:\n",
    "            cursor = lmList[8]\n",
    "            for img_obj in images:\n",
    "                img_obj.update(cursor)\n",
    "                cv2.resize(img_obj.img, None, 1.5, 1.5)\n",
    "\n",
    "    try:\n",
    "        for img_obj in images:\n",
    "\n",
    "            # Draw for JPG image\n",
    "            h, w = img_obj.size\n",
    "            ox, oy = img_obj.posOrigin\n",
    "            if img_obj.imgType == \"png\":\n",
    "                # Draw for PNG Images\n",
    "                img = cvzone.overlayPNG(img, img_obj.img, [ox, oy])\n",
    "            else:\n",
    "                img[oy:oy + h, ox:ox + w] = img_obj.img\n",
    "\n",
    "    except:\n",
    "        pass\n",
    "\n",
    "    cv2.imshow(\"Image\", img)\n",
    "    cv2.waitKey(1)\n",
    "    if cv2.waitKey(1) & 0xFF == ord('q'):\n",
    "        break\n",
    "cap.release()\n",
    "cv2.destroyAllWindows()"
   ]
  },
  {
   "cell_type": "code",
   "execution_count": null,
   "id": "ea04e123",
   "metadata": {},
   "outputs": [],
   "source": []
  },
  {
   "cell_type": "code",
   "execution_count": null,
   "id": "064f6467",
   "metadata": {},
   "outputs": [],
   "source": []
  }
 ],
 "metadata": {
  "kernelspec": {
   "display_name": "Python 3 (ipykernel)",
   "language": "python",
   "name": "python3"
  },
  "language_info": {
   "codemirror_mode": {
    "name": "ipython",
    "version": 3
   },
   "file_extension": ".py",
   "mimetype": "text/x-python",
   "name": "python",
   "nbconvert_exporter": "python",
   "pygments_lexer": "ipython3",
   "version": "3.9.7"
  }
 },
 "nbformat": 4,
 "nbformat_minor": 5
}
