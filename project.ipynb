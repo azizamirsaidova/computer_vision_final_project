{
 "cells": [
  {
   "cell_type": "code",
   "execution_count": 1,
   "id": "3a669824",
   "metadata": {},
   "outputs": [
    {
     "name": "stdout",
     "output_type": "stream",
     "text": [
      "Requirement already satisfied: mediapipe in /Users/devyanigauri/opt/miniconda3/lib/python3.9/site-packages (0.8.10)\n",
      "Requirement already satisfied: absl-py in /Users/devyanigauri/opt/miniconda3/lib/python3.9/site-packages (from mediapipe) (1.0.0)\n",
      "Requirement already satisfied: opencv-contrib-python in /Users/devyanigauri/opt/miniconda3/lib/python3.9/site-packages (from mediapipe) (4.5.5.64)\n",
      "Requirement already satisfied: protobuf>=3.11.4 in /Users/devyanigauri/opt/miniconda3/lib/python3.9/site-packages (from mediapipe) (3.20.1)\n",
      "Requirement already satisfied: attrs>=19.1.0 in /Users/devyanigauri/opt/miniconda3/lib/python3.9/site-packages (from mediapipe) (21.4.0)\n",
      "Requirement already satisfied: numpy in /Users/devyanigauri/opt/miniconda3/lib/python3.9/site-packages (from mediapipe) (1.21.2)\n",
      "Requirement already satisfied: matplotlib in /Users/devyanigauri/opt/miniconda3/lib/python3.9/site-packages (from mediapipe) (3.5.1)\n",
      "Requirement already satisfied: six in /Users/devyanigauri/opt/miniconda3/lib/python3.9/site-packages (from absl-py->mediapipe) (1.16.0)\n",
      "Requirement already satisfied: pyparsing>=2.2.1 in /Users/devyanigauri/opt/miniconda3/lib/python3.9/site-packages (from matplotlib->mediapipe) (3.0.7)\n",
      "Requirement already satisfied: cycler>=0.10 in /Users/devyanigauri/opt/miniconda3/lib/python3.9/site-packages (from matplotlib->mediapipe) (0.11.0)\n",
      "Requirement already satisfied: fonttools>=4.22.0 in /Users/devyanigauri/opt/miniconda3/lib/python3.9/site-packages (from matplotlib->mediapipe) (4.29.1)\n",
      "Requirement already satisfied: kiwisolver>=1.0.1 in /Users/devyanigauri/opt/miniconda3/lib/python3.9/site-packages (from matplotlib->mediapipe) (1.3.2)\n",
      "Requirement already satisfied: packaging>=20.0 in /Users/devyanigauri/opt/miniconda3/lib/python3.9/site-packages (from matplotlib->mediapipe) (21.3)\n",
      "Requirement already satisfied: pillow>=6.2.0 in /Users/devyanigauri/opt/miniconda3/lib/python3.9/site-packages (from matplotlib->mediapipe) (9.0.1)\n",
      "Requirement already satisfied: python-dateutil>=2.7 in /Users/devyanigauri/opt/miniconda3/lib/python3.9/site-packages (from matplotlib->mediapipe) (2.8.2)\n",
      "Requirement already satisfied: cvzone in /Users/devyanigauri/opt/miniconda3/lib/python3.9/site-packages (1.5.6)\n",
      "Requirement already satisfied: opencv-python in /Users/devyanigauri/opt/miniconda3/lib/python3.9/site-packages (from cvzone) (4.5.5.64)\n",
      "Requirement already satisfied: numpy in /Users/devyanigauri/opt/miniconda3/lib/python3.9/site-packages (from cvzone) (1.21.2)\n"
     ]
    }
   ],
   "source": [
    "!pip install mediapipe\n",
    "!pip install cvzone"
   ]
  },
  {
   "cell_type": "code",
   "execution_count": 1,
   "id": "94d6a5ba",
   "metadata": {},
   "outputs": [],
   "source": [
    "import cv2\n",
    "import numpy\n",
    "import mediapipe as mp\n",
    "import cvzone\n",
    "import os\n",
    "from cvzone.HandTrackingModule import HandDetector\n",
    "mp_drawing = mp.solutions.drawing_utils\n",
    "mp_drawing_styles = mp.solutions.drawing_styles\n",
    "mp_hands = mp.solutions.hands"
   ]
  },
  {
   "cell_type": "code",
   "execution_count": 2,
   "id": "38db8995",
   "metadata": {},
   "outputs": [],
   "source": [
    "class DragImg():\n",
    "    def __init__(self, path, posOrigin, size, imgType):\n",
    " \n",
    "        self.posOrigin = posOrigin\n",
    "#         self.posNew = posOrigin\n",
    "        self.imgType = imgType\n",
    "        self.path = path\n",
    " \n",
    "        if self.imgType == 'png':\n",
    "            self.img = cv2.imread(self.path, cv2.IMREAD_UNCHANGED)\n",
    "        else:\n",
    "            self.img = cv2.imread(self.path)\n",
    " \n",
    "        self.img = cv2.resize(self.img, (0,0),None,size,size)\n",
    " \n",
    "        self.size = self.img.shape[:2]\n",
    " \n",
    "    def update(self, cursor):\n",
    "        ox, oy = self.posOrigin\n",
    "        h, w = self.size\n",
    " \n",
    "        # Check if in region\n",
    "        if ox < cursor[0] < ox + w and oy < cursor[1] < oy + h:\n",
    "            self.posOrigin = cursor[0] - w // 2, cursor[1] - h // 2\n",
    "#             self.posNew = cursor[0] - w // 2, cursor[1] - h // 2"
   ]
  },
  {
   "cell_type": "code",
   "execution_count": 3,
   "id": "bebb396c",
   "metadata": {},
   "outputs": [],
   "source": [
    "path = 'images'\n",
    "paths = os.listdir(path)"
   ]
  },
  {
   "cell_type": "code",
   "execution_count": 4,
   "id": "a234b30e",
   "metadata": {},
   "outputs": [
    {
     "data": {
      "text/plain": [
       "['dog.png', 'sunset_bg.jpeg', '.DS_Store', 'sandwich.png']"
      ]
     },
     "execution_count": 4,
     "metadata": {},
     "output_type": "execute_result"
    }
   ],
   "source": [
    "paths"
   ]
  },
  {
   "cell_type": "code",
   "execution_count": 5,
   "id": "2be2dd10",
   "metadata": {},
   "outputs": [
    {
     "ename": "error",
     "evalue": "OpenCV(4.5.5) /Users/runner/work/opencv-python/opencv-python/opencv/modules/imgproc/src/resize.cpp:4052: error: (-215:Assertion failed) !ssize.empty() in function 'resize'\n",
     "output_type": "error",
     "traceback": [
      "\u001b[0;31m---------------------------------------------------------------------------\u001b[0m",
      "\u001b[0;31merror\u001b[0m                                     Traceback (most recent call last)",
      "Input \u001b[0;32mIn [5]\u001b[0m, in \u001b[0;36m<cell line: 3>\u001b[0;34m()\u001b[0m\n\u001b[1;32m      9\u001b[0m     backgrounds\u001b[38;5;241m.\u001b[39mappend(DragImg(\u001b[38;5;124mf\u001b[39m\u001b[38;5;124m'\u001b[39m\u001b[38;5;132;01m{\u001b[39;00mpath\u001b[38;5;132;01m}\u001b[39;00m\u001b[38;5;124m/\u001b[39m\u001b[38;5;132;01m{\u001b[39;00mimg_path\u001b[38;5;132;01m}\u001b[39;00m\u001b[38;5;124m'\u001b[39m, [\u001b[38;5;241m50\u001b[39m \u001b[38;5;241m+\u001b[39m x \u001b[38;5;241m*\u001b[39m \u001b[38;5;241m300\u001b[39m, \u001b[38;5;241m50\u001b[39m], \u001b[38;5;241m0.6\u001b[39m,img_type))\n\u001b[1;32m     10\u001b[0m \u001b[38;5;28;01melse\u001b[39;00m:\n\u001b[0;32m---> 11\u001b[0m     images\u001b[38;5;241m.\u001b[39mappend(\u001b[43mDragImg\u001b[49m\u001b[43m(\u001b[49m\u001b[38;5;124;43mf\u001b[39;49m\u001b[38;5;124;43m'\u001b[39;49m\u001b[38;5;132;43;01m{\u001b[39;49;00m\u001b[43mpath\u001b[49m\u001b[38;5;132;43;01m}\u001b[39;49;00m\u001b[38;5;124;43m/\u001b[39;49m\u001b[38;5;132;43;01m{\u001b[39;49;00m\u001b[43mimg_path\u001b[49m\u001b[38;5;132;43;01m}\u001b[39;49;00m\u001b[38;5;124;43m'\u001b[39;49m\u001b[43m,\u001b[49m\u001b[43m \u001b[49m\u001b[43m[\u001b[49m\u001b[38;5;241;43m50\u001b[39;49m\u001b[43m \u001b[49m\u001b[38;5;241;43m+\u001b[39;49m\u001b[43m \u001b[49m\u001b[43mx\u001b[49m\u001b[43m \u001b[49m\u001b[38;5;241;43m*\u001b[39;49m\u001b[43m \u001b[49m\u001b[38;5;241;43m300\u001b[39;49m\u001b[43m,\u001b[49m\u001b[43m \u001b[49m\u001b[38;5;241;43m50\u001b[39;49m\u001b[43m]\u001b[49m\u001b[43m,\u001b[49m\u001b[43m \u001b[49m\u001b[38;5;241;43m0.2\u001b[39;49m\u001b[43m,\u001b[49m\u001b[43mimg_type\u001b[49m\u001b[43m)\u001b[49m)\n",
      "Input \u001b[0;32mIn [2]\u001b[0m, in \u001b[0;36mDragImg.__init__\u001b[0;34m(self, path, posOrigin, size, imgType)\u001b[0m\n\u001b[1;32m     11\u001b[0m \u001b[38;5;28;01melse\u001b[39;00m:\n\u001b[1;32m     12\u001b[0m     \u001b[38;5;28mself\u001b[39m\u001b[38;5;241m.\u001b[39mimg \u001b[38;5;241m=\u001b[39m cv2\u001b[38;5;241m.\u001b[39mimread(\u001b[38;5;28mself\u001b[39m\u001b[38;5;241m.\u001b[39mpath)\n\u001b[0;32m---> 14\u001b[0m \u001b[38;5;28mself\u001b[39m\u001b[38;5;241m.\u001b[39mimg \u001b[38;5;241m=\u001b[39m \u001b[43mcv2\u001b[49m\u001b[38;5;241;43m.\u001b[39;49m\u001b[43mresize\u001b[49m\u001b[43m(\u001b[49m\u001b[38;5;28;43mself\u001b[39;49m\u001b[38;5;241;43m.\u001b[39;49m\u001b[43mimg\u001b[49m\u001b[43m,\u001b[49m\u001b[43m \u001b[49m\u001b[43m(\u001b[49m\u001b[38;5;241;43m0\u001b[39;49m\u001b[43m,\u001b[49m\u001b[38;5;241;43m0\u001b[39;49m\u001b[43m)\u001b[49m\u001b[43m,\u001b[49m\u001b[38;5;28;43;01mNone\u001b[39;49;00m\u001b[43m,\u001b[49m\u001b[43msize\u001b[49m\u001b[43m,\u001b[49m\u001b[43msize\u001b[49m\u001b[43m)\u001b[49m\n\u001b[1;32m     16\u001b[0m \u001b[38;5;28mself\u001b[39m\u001b[38;5;241m.\u001b[39msize \u001b[38;5;241m=\u001b[39m \u001b[38;5;28mself\u001b[39m\u001b[38;5;241m.\u001b[39mimg\u001b[38;5;241m.\u001b[39mshape[:\u001b[38;5;241m2\u001b[39m]\n",
      "\u001b[0;31merror\u001b[0m: OpenCV(4.5.5) /Users/runner/work/opencv-python/opencv-python/opencv/modules/imgproc/src/resize.cpp:4052: error: (-215:Assertion failed) !ssize.empty() in function 'resize'\n"
     ]
    }
   ],
   "source": [
    "images = []\n",
    "backgrounds = []\n",
    "for x, img_path in enumerate(paths):\n",
    "    if 'png' in img_path:\n",
    "        img_type = 'png'\n",
    "    else:\n",
    "        img_type = 'jpg'\n",
    "    if 'bg' in img_path:\n",
    "        backgrounds.append(DragImg(f'{path}/{img_path}', [50 + x * 300, 50], 0.6,img_type))\n",
    "    else:\n",
    "        images.append(DragImg(f'{path}/{img_path}', [50 + x * 300, 50], 0.2,img_type))"
   ]
  },
  {
   "cell_type": "code",
   "execution_count": 6,
   "id": "30e39813",
   "metadata": {},
   "outputs": [
    {
     "name": "stdout",
     "output_type": "stream",
     "text": [
      "[<__main__.DragImg object at 0x7fd9d8c89940>]\n",
      "[<__main__.DragImg object at 0x7fd9d8c585e0>]\n"
     ]
    }
   ],
   "source": [
    "print(images)\n",
    "print(backgrounds)"
   ]
  },
  {
   "cell_type": "code",
   "execution_count": 8,
   "id": "6ef3b106",
   "metadata": {
    "scrolled": false
   },
   "outputs": [
    {
     "name": "stdout",
     "output_type": "stream",
     "text": [
      "\t05-28-2022  20:49:57.757 @@@@===RelayStream:: set kCMIOStreamPropertyFormatDescription sub=2vuy w=1280 h=720\n",
      "\t05-28-2022  20:49:57.273 Local Camera start, ret=0\n",
      "\t05-28-2022  20:49:57.051 @@@@===RelayStream:: set kCMIOStreamPropertyFormatDescription sub=2vuy w=1280 h=720\n",
      "\t05-28-2022  20:49:57.330 Local Camera start, ret=0\n",
      "Position: <__main__.DragImg object at 0x7fa2e9817670> (50, 50)\n",
      "BG Position: <__main__.DragImg object at 0x7fa2e98171c0> (959, 458)\n",
      "Position: <__main__.DragImg object at 0x7fa2e8e5b040> (927, 148)\n",
      "BG Position: <__main__.DragImg object at 0x7fa2e9817e80> (734, 184)\n"
     ]
    }
   ],
   "source": [
    "cap = cv2.VideoCapture(0)\n",
    "cap.set(3, 1280)\n",
    "cap.set(4, 720)\n",
    " \n",
    "detector = HandDetector(detectionCon=0.8)\n",
    "\n",
    "while True:\n",
    "    success, img = cap.read()\n",
    "    img = cv2.flip(img, 1)\n",
    "    hands, img = detector.findHands(img, flipType=False)\n",
    "    rect1 = cv2.rectangle(img, (1200,400), (900, 700), (255, 0, 0), 2)\n",
    "    rect2 = cv2.rectangle(img, (1200,50), (900, 350), (0, 255, 0), 2)\n",
    "#     cv2.imshow('box1',img[50:350,900:1200])\n",
    "    \n",
    "    if hands:\n",
    "        lmList = hands[0]['lmList']\n",
    "        print(lmList)\n",
    "        print(lmList[8][:2])\n",
    "        print(lmList[12][:2])\n",
    "        # Check if clicked\n",
    "        length, info, img = detector.findDistance(lmList[8][:2], lmList[12][:2], img)\n",
    "        print(length)\n",
    "        if length < 60:\n",
    "            cursor = lmList[8]\n",
    "            for img_obj in images:\n",
    "                img_obj.update(cursor)\n",
    "            for img_obj in backgrounds:\n",
    "                img_obj.update(cursor)\n",
    "    \n",
    "    try:\n",
    "        for img_obj, bg_obj in images, backgrounds:\n",
    "\n",
    "            # Draw for JPG image\n",
    "            h, w = img_obj.size\n",
    "            h_bg, w_bg = bg_obj.size\n",
    "            \n",
    "            ox, oy = img_obj.posOrigin\n",
    "            ox_bg, oy_bg = bg_obj.posOrigin\n",
    "            \n",
    "            print('Position:',img_obj, (ox,oy))\n",
    "            print('BG Position:',bg_obj, (ox_bg,oy_bg))\n",
    "            if img_obj.imgType == \"png\":\n",
    "                # Draw for PNG Images\n",
    "                img = cvzone.overlayPNG(img, img_obj.img, [ox, oy])\n",
    "            else:\n",
    "                img[oy:oy + h, ox:ox + w] = img_obj.img\n",
    "            if bg_obj.imgType == \"png\":\n",
    "                # Draw for PNG Images\n",
    "                img = cvzone.overlayPNG(img, bg_obj.img, [ox_bg, oy_bg])\n",
    "            else:\n",
    "                img[oy_bg:oy_bg + h_bg, ox_bg:ox_bg + w_bg] = bg_obj.img\n",
    "\n",
    "        if (900,50) <= (ox_bg,oy_bg) <= (1200,350) and (900,400) <= (ox,oy) <= (1200,700) :\n",
    "            print('ox_bg,oy_bg', ox_bg,oy_bg)\n",
    "            print('ox,oy',ox,oy)\n",
    "        \n",
    "    except:\n",
    "        pass\n",
    "\n",
    "    cv2.imshow(\"Image\", img)\n",
    "#     cv2.imshow('box1', box1)\n",
    "    cv2.waitKey(1)\n",
    "    if cv2.waitKey(1) & 0xFF == ord('q'):\n",
    "        break\n",
    "cap.release()\n",
    "cv2.destroyAllWindows()"
   ]
  },
  {
   "cell_type": "code",
   "execution_count": null,
   "id": "064f6467",
   "metadata": {},
   "outputs": [],
   "source": []
  }
 ],
 "metadata": {
  "kernelspec": {
   "display_name": "Python 3 (ipykernel)",
   "language": "python",
   "name": "python3"
  },
  "language_info": {
   "codemirror_mode": {
    "name": "ipython",
    "version": 3
   },
   "file_extension": ".py",
   "mimetype": "text/x-python",
   "name": "python",
   "nbconvert_exporter": "python",
   "pygments_lexer": "ipython3",
   "version": "3.9.7"
  }
 },
 "nbformat": 4,
 "nbformat_minor": 5
}
